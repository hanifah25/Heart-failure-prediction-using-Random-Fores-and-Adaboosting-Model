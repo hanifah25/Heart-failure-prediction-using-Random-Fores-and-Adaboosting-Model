{
 "cells": [
  {
   "cell_type": "code",
   "execution_count": 24,
   "metadata": {},
   "outputs": [],
   "source": [
    "#import library\n",
    "import pandas as pd\n",
    "import pickle\n",
    "import sklearn"
   ]
  },
  {
   "cell_type": "code",
   "execution_count": 25,
   "metadata": {},
   "outputs": [],
   "source": [
    "# Simpan model rfc ke dalam file model_rfc.pkl\n",
    "with open('model_rfc.pkl', 'rb') as file1:\n",
    "    model_rfc = pickle.load(file1)\n",
    "\n",
    "# Simpan model ada ke dalam file model_rfc.pkl\n",
    "with open('model_ada.pkl', 'rb') as file2:\n",
    "    model_ada = pickle.load(file2)\n",
    "\n",
    "with open('model_full_pipeline.pkl', 'rb') as file3:\n",
    "   model_full_pipeline = pickle.load(file3)"
   ]
  },
  {
   "cell_type": "code",
   "execution_count": 26,
   "metadata": {},
   "outputs": [],
   "source": [
    "#Dataframe random\n",
    "data = {'age' : [85.0,60.0,50.0,61.0,60],\n",
    "        'time' : [28,115,120,213,96],\n",
    "        'ejection_fraction' : [45,25,35,38,40],\n",
    "        'serum_creatinine'\t: [3.0,0.9,1.0,1.4,3.70],\n",
    "        'creatinine_phosphokinase': [23,2261,250,80,582],\n",
    "        'high_blood_pressure' : [1,1,0,0,0]}"
   ]
  },
  {
   "cell_type": "code",
   "execution_count": 27,
   "metadata": {},
   "outputs": [
    {
     "data": {
      "text/html": [
       "<div>\n",
       "<style scoped>\n",
       "    .dataframe tbody tr th:only-of-type {\n",
       "        vertical-align: middle;\n",
       "    }\n",
       "\n",
       "    .dataframe tbody tr th {\n",
       "        vertical-align: top;\n",
       "    }\n",
       "\n",
       "    .dataframe thead th {\n",
       "        text-align: right;\n",
       "    }\n",
       "</style>\n",
       "<table border=\"1\" class=\"dataframe\">\n",
       "  <thead>\n",
       "    <tr style=\"text-align: right;\">\n",
       "      <th></th>\n",
       "      <th>age</th>\n",
       "      <th>time</th>\n",
       "      <th>ejection_fraction</th>\n",
       "      <th>serum_creatinine</th>\n",
       "      <th>creatinine_phosphokinase</th>\n",
       "      <th>high_blood_pressure</th>\n",
       "    </tr>\n",
       "  </thead>\n",
       "  <tbody>\n",
       "    <tr>\n",
       "      <th>0</th>\n",
       "      <td>85.0</td>\n",
       "      <td>28</td>\n",
       "      <td>45</td>\n",
       "      <td>3.0</td>\n",
       "      <td>23</td>\n",
       "      <td>1</td>\n",
       "    </tr>\n",
       "    <tr>\n",
       "      <th>1</th>\n",
       "      <td>60.0</td>\n",
       "      <td>115</td>\n",
       "      <td>25</td>\n",
       "      <td>0.9</td>\n",
       "      <td>2261</td>\n",
       "      <td>1</td>\n",
       "    </tr>\n",
       "    <tr>\n",
       "      <th>2</th>\n",
       "      <td>50.0</td>\n",
       "      <td>120</td>\n",
       "      <td>35</td>\n",
       "      <td>1.0</td>\n",
       "      <td>250</td>\n",
       "      <td>0</td>\n",
       "    </tr>\n",
       "    <tr>\n",
       "      <th>3</th>\n",
       "      <td>61.0</td>\n",
       "      <td>213</td>\n",
       "      <td>38</td>\n",
       "      <td>1.4</td>\n",
       "      <td>80</td>\n",
       "      <td>0</td>\n",
       "    </tr>\n",
       "    <tr>\n",
       "      <th>4</th>\n",
       "      <td>60.0</td>\n",
       "      <td>96</td>\n",
       "      <td>40</td>\n",
       "      <td>3.7</td>\n",
       "      <td>582</td>\n",
       "      <td>0</td>\n",
       "    </tr>\n",
       "  </tbody>\n",
       "</table>\n",
       "</div>"
      ],
      "text/plain": [
       "    age  time  ejection_fraction  serum_creatinine  creatinine_phosphokinase  \\\n",
       "0  85.0    28                 45               3.0                        23   \n",
       "1  60.0   115                 25               0.9                      2261   \n",
       "2  50.0   120                 35               1.0                       250   \n",
       "3  61.0   213                 38               1.4                        80   \n",
       "4  60.0    96                 40               3.7                       582   \n",
       "\n",
       "   high_blood_pressure  \n",
       "0                    1  \n",
       "1                    1  \n",
       "2                    0  \n",
       "3                    0  \n",
       "4                    0  "
      ]
     },
     "execution_count": 27,
     "metadata": {},
     "output_type": "execute_result"
    }
   ],
   "source": [
    "inf = pd.DataFrame(data,columns=data.keys())\n",
    "inf"
   ]
  },
  {
   "cell_type": "code",
   "execution_count": 28,
   "metadata": {},
   "outputs": [
    {
     "data": {
      "text/plain": [
       "array([[8.25284248e-01, 7.88530466e-02, 0.00000000e+00, 9.80000000e+01,\n",
       "        2.70000000e+01],\n",
       "       [3.66792999e-01, 3.90681004e-01, 1.98000000e+02, 1.20000000e+01,\n",
       "        9.00000000e+00],\n",
       "       [1.83396500e-01, 4.08602151e-01, 9.70000000e+01, 1.40000000e+01,\n",
       "        1.90000000e+01],\n",
       "       [3.85132649e-01, 7.41935484e-01, 2.20000000e+01, 5.40000000e+01,\n",
       "        2.20000000e+01],\n",
       "       [3.66792999e-01, 3.22580645e-01, 1.39000000e+02, 1.02000000e+02,\n",
       "        2.40000000e+01]])"
      ]
     },
     "execution_count": 28,
     "metadata": {},
     "output_type": "execute_result"
    }
   ],
   "source": [
    "full_pipeline = model_full_pipeline.transform(inf[['age','time','creatinine_phosphokinase','serum_creatinine','ejection_fraction']])\n",
    "full_pipeline"
   ]
  },
  {
   "cell_type": "code",
   "execution_count": 29,
   "metadata": {},
   "outputs": [],
   "source": [
    "inf_final = full_pipeline.copy()"
   ]
  },
  {
   "cell_type": "code",
   "execution_count": 30,
   "metadata": {},
   "outputs": [],
   "source": [
    "inf_pred_model = model_ada.predict(inf_final)"
   ]
  },
  {
   "cell_type": "code",
   "execution_count": 31,
   "metadata": {},
   "outputs": [
    {
     "data": {
      "text/html": [
       "<div>\n",
       "<style scoped>\n",
       "    .dataframe tbody tr th:only-of-type {\n",
       "        vertical-align: middle;\n",
       "    }\n",
       "\n",
       "    .dataframe tbody tr th {\n",
       "        vertical-align: top;\n",
       "    }\n",
       "\n",
       "    .dataframe thead th {\n",
       "        text-align: right;\n",
       "    }\n",
       "</style>\n",
       "<table border=\"1\" class=\"dataframe\">\n",
       "  <thead>\n",
       "    <tr style=\"text-align: right;\">\n",
       "      <th></th>\n",
       "      <th>Pred_Death_Event</th>\n",
       "    </tr>\n",
       "  </thead>\n",
       "  <tbody>\n",
       "    <tr>\n",
       "      <th>0</th>\n",
       "      <td>1</td>\n",
       "    </tr>\n",
       "    <tr>\n",
       "      <th>1</th>\n",
       "      <td>1</td>\n",
       "    </tr>\n",
       "    <tr>\n",
       "      <th>2</th>\n",
       "      <td>0</td>\n",
       "    </tr>\n",
       "    <tr>\n",
       "      <th>3</th>\n",
       "      <td>0</td>\n",
       "    </tr>\n",
       "    <tr>\n",
       "      <th>4</th>\n",
       "      <td>0</td>\n",
       "    </tr>\n",
       "  </tbody>\n",
       "</table>\n",
       "</div>"
      ],
      "text/plain": [
       "   Pred_Death_Event\n",
       "0                 1\n",
       "1                 1\n",
       "2                 0\n",
       "3                 0\n",
       "4                 0"
      ]
     },
     "execution_count": 31,
     "metadata": {},
     "output_type": "execute_result"
    }
   ],
   "source": [
    "df_pred_model = pd.DataFrame(inf_pred_model, columns=['Pred_Death_Event']) \n",
    "df_pred_model"
   ]
  },
  {
   "cell_type": "code",
   "execution_count": 32,
   "metadata": {},
   "outputs": [
    {
     "data": {
      "text/html": [
       "<div>\n",
       "<style scoped>\n",
       "    .dataframe tbody tr th:only-of-type {\n",
       "        vertical-align: middle;\n",
       "    }\n",
       "\n",
       "    .dataframe tbody tr th {\n",
       "        vertical-align: top;\n",
       "    }\n",
       "\n",
       "    .dataframe thead th {\n",
       "        text-align: right;\n",
       "    }\n",
       "</style>\n",
       "<table border=\"1\" class=\"dataframe\">\n",
       "  <thead>\n",
       "    <tr style=\"text-align: right;\">\n",
       "      <th></th>\n",
       "      <th>age</th>\n",
       "      <th>time</th>\n",
       "      <th>ejection_fraction</th>\n",
       "      <th>serum_creatinine</th>\n",
       "      <th>creatinine_phosphokinase</th>\n",
       "      <th>high_blood_pressure</th>\n",
       "      <th>Pred_Death_Event</th>\n",
       "    </tr>\n",
       "  </thead>\n",
       "  <tbody>\n",
       "    <tr>\n",
       "      <th>0</th>\n",
       "      <td>85.0</td>\n",
       "      <td>28</td>\n",
       "      <td>45</td>\n",
       "      <td>3.0</td>\n",
       "      <td>23</td>\n",
       "      <td>1</td>\n",
       "      <td>1</td>\n",
       "    </tr>\n",
       "    <tr>\n",
       "      <th>1</th>\n",
       "      <td>60.0</td>\n",
       "      <td>115</td>\n",
       "      <td>25</td>\n",
       "      <td>0.9</td>\n",
       "      <td>2261</td>\n",
       "      <td>1</td>\n",
       "      <td>1</td>\n",
       "    </tr>\n",
       "    <tr>\n",
       "      <th>2</th>\n",
       "      <td>50.0</td>\n",
       "      <td>120</td>\n",
       "      <td>35</td>\n",
       "      <td>1.0</td>\n",
       "      <td>250</td>\n",
       "      <td>0</td>\n",
       "      <td>0</td>\n",
       "    </tr>\n",
       "    <tr>\n",
       "      <th>3</th>\n",
       "      <td>61.0</td>\n",
       "      <td>213</td>\n",
       "      <td>38</td>\n",
       "      <td>1.4</td>\n",
       "      <td>80</td>\n",
       "      <td>0</td>\n",
       "      <td>0</td>\n",
       "    </tr>\n",
       "    <tr>\n",
       "      <th>4</th>\n",
       "      <td>60.0</td>\n",
       "      <td>96</td>\n",
       "      <td>40</td>\n",
       "      <td>3.7</td>\n",
       "      <td>582</td>\n",
       "      <td>0</td>\n",
       "      <td>0</td>\n",
       "    </tr>\n",
       "  </tbody>\n",
       "</table>\n",
       "</div>"
      ],
      "text/plain": [
       "    age  time  ejection_fraction  serum_creatinine  creatinine_phosphokinase  \\\n",
       "0  85.0    28                 45               3.0                        23   \n",
       "1  60.0   115                 25               0.9                      2261   \n",
       "2  50.0   120                 35               1.0                       250   \n",
       "3  61.0   213                 38               1.4                        80   \n",
       "4  60.0    96                 40               3.7                       582   \n",
       "\n",
       "   high_blood_pressure  Pred_Death_Event  \n",
       "0                    1                 1  \n",
       "1                    1                 1  \n",
       "2                    0                 0  \n",
       "3                    0                 0  \n",
       "4                    0                 0  "
      ]
     },
     "execution_count": 32,
     "metadata": {},
     "output_type": "execute_result"
    }
   ],
   "source": [
    "df_combined = pd.concat([inf, df_pred_model], axis=1)\n",
    "df_combined"
   ]
  }
 ],
 "metadata": {
  "kernelspec": {
   "display_name": "base",
   "language": "python",
   "name": "python3"
  },
  "language_info": {
   "codemirror_mode": {
    "name": "ipython",
    "version": 3
   },
   "file_extension": ".py",
   "mimetype": "text/x-python",
   "name": "python",
   "nbconvert_exporter": "python",
   "pygments_lexer": "ipython3",
   "version": "3.9.15"
  },
  "orig_nbformat": 4
 },
 "nbformat": 4,
 "nbformat_minor": 2
}
